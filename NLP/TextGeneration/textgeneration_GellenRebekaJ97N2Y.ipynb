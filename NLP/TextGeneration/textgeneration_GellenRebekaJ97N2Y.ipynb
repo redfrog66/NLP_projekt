{
 "cells": [
  {
   "cell_type": "markdown",
   "id": "ebc25a27",
   "metadata": {},
   "source": [
    "## Szöveg Generálás a Twilight c. könyv alapján "
   ]
  },
  {
   "cell_type": "markdown",
   "id": "775f02ec",
   "metadata": {},
   "source": [
    "# Feladat rövid leírása"
   ]
  },
  {
   "cell_type": "markdown",
   "id": "1a105e2d",
   "metadata": {},
   "source": [
    "A feladat célja, hogy egy új jelenetet készítsünk Stephanie Meyer Twilight című könyvébe. \n",
    "Ehhez Az első 5 fejezet első 3-4 oldalnyi szövegeit használjuk. "
   ]
  },
  {
   "cell_type": "markdown",
   "id": "32ecf541",
   "metadata": {},
   "source": [
    "## Készítette:"
   ]
  },
  {
   "cell_type": "markdown",
   "id": "ccb33025",
   "metadata": {},
   "source": [
    "# Gellén Rebeka - J97N2Y"
   ]
  },
  {
   "cell_type": "markdown",
   "id": "87cc3422",
   "metadata": {},
   "source": [
    "#### Szöveg beolvasása:"
   ]
  },
  {
   "cell_type": "markdown",
   "id": "411c41ec",
   "metadata": {},
   "source": [
    "Ebben az első lépésben fogjuk a szövegünket és csupa kisbetűre állítjuk, megszüntetve a különbséget kis és nagybetűk között.\n",
    "\n",
    "Ezután kiíratjuk a hosszát, illetve a szöveget teljes hosszában, tabulátorok, sortörések átalakításával.\n"
   ]
  },
  {
   "cell_type": "code",
   "execution_count": 1,
   "id": "a559b608",
   "metadata": {},
   "outputs": [
    {
     "name": "stdout",
     "output_type": "stream",
     "text": [
      "660165\n"
     ]
    }
   ],
   "source": [
    "with open(\"book1_script.txt\", \"r\", encoding=\"utf8\") as book:\n",
    "    script = book.read().lower()\n",
    "\n",
    "#a len() függvény fogja megszámolni a szövegünkben szereplő karakterek számát\n",
    "print(len(script)) "
   ]
  },
  {
   "cell_type": "code",
   "execution_count": 1,
   "id": "127df190",
   "metadata": {
    "scrolled": false
   },
   "outputs": [],
   "source": [
    "#script[:660165] - ezzel megjeleníthetjük a teljes szöveget. A tabulátorok, sortörések is karakterekké alakulnak.\n",
    "#Most ezt elrejtettem, mivel hosszú szöveggel dolgozunk és csak a helyet fogná."
   ]
  },
  {
   "cell_type": "markdown",
   "id": "6f6c7fb7",
   "metadata": {},
   "source": [
    "#### felhasznált karakterek kigyűjtése a szövegből:"
   ]
  },
  {
   "cell_type": "markdown",
   "id": "751d6fd8",
   "metadata": {},
   "source": [
    "numpy: numerikus python - matematikai függvénykönyvtárral támogatja a többdimenziós tömbök és mátrixok használatát\n",
    "\n",
    "tqdm: folyamat vizualizálására alkalmas"
   ]
  },
  {
   "cell_type": "code",
   "execution_count": 3,
   "id": "747d37f7",
   "metadata": {},
   "outputs": [
    {
     "name": "stderr",
     "output_type": "stream",
     "text": [
      "100%|██████████| 220035/220035 [00:00<00:00, 666722.30it/s]\n"
     ]
    },
    {
     "data": {
      "text/plain": [
       "220035"
      ]
     },
     "execution_count": 3,
     "metadata": {},
     "output_type": "execute_result"
    }
   ],
   "source": [
    "import numpy as np\n",
    "from tqdm import tqdm\n",
    "\n",
    "maxlen = 60\n",
    "step = 3\n",
    "sentences = []\n",
    "next_chars = []\n",
    "\n",
    "for i in tqdm(range(0, len(script) - maxlen, step)):\n",
    "    sentences.append(script[i: i + maxlen])\n",
    "    next_chars.append(script[i + maxlen])\n",
    "len(sentences)"
   ]
  },
  {
   "cell_type": "markdown",
   "id": "477afa2f",
   "metadata": {},
   "source": [
    "felhasznált karakterek"
   ]
  },
  {
   "cell_type": "code",
   "execution_count": 4,
   "id": "75901ee9",
   "metadata": {},
   "outputs": [
    {
     "name": "stdout",
     "output_type": "stream",
     "text": [
      "['\\t', '\\n', ' ', '!', '\"', \"'\", ',', '-', '.', '0', '1', '3', '4', '5', '6', '8', '9', ':', ';', '?', 'a', 'b', 'c', 'd', 'e', 'f', 'g', 'h', 'i', 'j', 'k', 'l', 'm', 'n', 'o', 'p', 'q', 'r', 's', 't', 'u', 'v', 'w', 'x', 'y', 'z', 'é', '\\u2003', '—', '…']\n"
     ]
    }
   ],
   "source": [
    "chars = sorted(list(set(script)))\n",
    "print(chars)"
   ]
  },
  {
   "cell_type": "markdown",
   "id": "7490990e",
   "metadata": {},
   "source": [
    "A felhasznált karakterek indexei"
   ]
  },
  {
   "cell_type": "code",
   "execution_count": 5,
   "id": "bc98bdae",
   "metadata": {},
   "outputs": [
    {
     "name": "stdout",
     "output_type": "stream",
     "text": [
      "{'\\t': 0, '\\n': 1, ' ': 2, '!': 3, '\"': 4, \"'\": 5, ',': 6, '-': 7, '.': 8, '0': 9, '1': 10, '3': 11, '4': 12, '5': 13, '6': 14, '8': 15, '9': 16, ':': 17, ';': 18, '?': 19, 'a': 20, 'b': 21, 'c': 22, 'd': 23, 'e': 24, 'f': 25, 'g': 26, 'h': 27, 'i': 28, 'j': 29, 'k': 30, 'l': 31, 'm': 32, 'n': 33, 'o': 34, 'p': 35, 'q': 36, 'r': 37, 's': 38, 't': 39, 'u': 40, 'v': 41, 'w': 42, 'x': 43, 'y': 44, 'z': 45, 'é': 46, '\\u2003': 47, '—': 48, '…': 49}\n"
     ]
    }
   ],
   "source": [
    "char_indices = dict((char, chars.index(char)) for char in chars)\n",
    "print(char_indices)\n"
   ]
  },
  {
   "cell_type": "markdown",
   "id": "80f2f17d",
   "metadata": {},
   "source": [
    "Ennél a résznél a bool-ra hibaüzenet érkezik, ami annyit kér, vagy használjunk szimpla bool-t, vagy np.bool_-t, ezutóbbi pedig nem változtat semmit, csupán elrejti a hibaüzenetet. Jobbnak láttam ezt választani."
   ]
  },
  {
   "cell_type": "code",
   "execution_count": 6,
   "id": "10a1d0bd",
   "metadata": {},
   "outputs": [
    {
     "name": "stderr",
     "output_type": "stream",
     "text": [
      "220035it [00:09, 23226.43it/s]"
     ]
    },
    {
     "name": "stdout",
     "output_type": "stream",
     "text": [
      "x (220035, 60, 50)\n",
      "y (220035, 50)\n"
     ]
    },
    {
     "name": "stderr",
     "output_type": "stream",
     "text": [
      "\n"
     ]
    }
   ],
   "source": [
    "x = np.zeros((len(sentences), maxlen, len(chars)), dtype=np.bool_)\n",
    "y = np.zeros((len(sentences), len(chars)), dtype=np.bool_)\n",
    "for i, sentence in tqdm(enumerate(sentences)):\n",
    "    for t, char in enumerate(sentence):\n",
    "        x[i, t, char_indices[char]] = 1\n",
    "    y[i, char_indices[next_chars[i]]] = 1\n",
    "\n",
    "print(\"x\", x.shape)\n",
    "print(\"y\", y.shape)"
   ]
  },
  {
   "cell_type": "markdown",
   "id": "c4124c9e",
   "metadata": {},
   "source": [
    "#### A model betanulása: "
   ]
  },
  {
   "cell_type": "markdown",
   "id": "02ad40ac",
   "metadata": {},
   "source": [
    "A tensorflow modellek betanítására, alkalmazására jó. Képfeldolgozásnál is nagy haszna van, miután NLP-ről láttam, az oda való beadandómban is használtam."
   ]
  },
  {
   "cell_type": "code",
   "execution_count": 7,
   "id": "1d7ed685",
   "metadata": {},
   "outputs": [
    {
     "name": "stdout",
     "output_type": "stream",
     "text": [
      "Model: \"sequential\"\n",
      "_________________________________________________________________\n",
      " Layer (type)                Output Shape              Param #   \n",
      "=================================================================\n",
      " gru (GRU)                   (None, 16)                3264      \n",
      "                                                                 \n",
      " dense (Dense)               (None, 50)                850       \n",
      "                                                                 \n",
      "=================================================================\n",
      "Total params: 4,114\n",
      "Trainable params: 4,114\n",
      "Non-trainable params: 0\n",
      "_________________________________________________________________\n"
     ]
    }
   ],
   "source": [
    "import tensorflow as tf\n",
    "\n",
    "model = tf.keras.Sequential([\n",
    "    tf.keras.layers.GRU(16, input_shape=(maxlen, len(chars))),\n",
    "    tf.keras.layers.Dense(units=len(chars), activation='softmax')\n",
    "]) \n",
    "\n",
    "model.compile(loss='categorical_crossentropy', \n",
    "              optimizer=tf.keras.optimizers.Adam(learning_rate=0.01))\n",
    "\n",
    "model.summary()"
   ]
  },
  {
   "cell_type": "markdown",
   "id": "b115bedf",
   "metadata": {},
   "source": [
    "Itt növelem a számát az epochs-nak, hogy többször is feldolgozásra kerüljön a szöveg, hátha kevésbé nézne ki démonidézős szövegnek."
   ]
  },
  {
   "cell_type": "code",
   "execution_count": 8,
   "id": "f2cde940",
   "metadata": {},
   "outputs": [
    {
     "name": "stdout",
     "output_type": "stream",
     "text": [
      "Epoch 1/10\n",
      "1720/1720 [==============================] - 64s 33ms/step - loss: 2.1183\n",
      "Epoch 2/10\n",
      "1720/1720 [==============================] - 59s 34ms/step - loss: 1.9077\n",
      "Epoch 3/10\n",
      "1720/1720 [==============================] - 56s 33ms/step - loss: 1.8721\n",
      "Epoch 4/10\n",
      "1720/1720 [==============================] - 56s 33ms/step - loss: 1.8551\n",
      "Epoch 5/10\n",
      "1720/1720 [==============================] - 56s 33ms/step - loss: 1.8434\n",
      "Epoch 6/10\n",
      "1720/1720 [==============================] - 57s 33ms/step - loss: 1.8373\n",
      "Epoch 7/10\n",
      "1720/1720 [==============================] - 56s 33ms/step - loss: 1.8318\n",
      "Epoch 8/10\n",
      "1720/1720 [==============================] - 56s 33ms/step - loss: 1.8253\n",
      "Epoch 9/10\n",
      "1720/1720 [==============================] - 56s 33ms/step - loss: 1.8209\n",
      "Epoch 10/10\n",
      "1720/1720 [==============================] - 56s 33ms/step - loss: 1.8188\n"
     ]
    }
   ],
   "source": [
    "with tf.device(\"/CPU:0\"):\n",
    "    model.fit(x, \n",
    "            y,\n",
    "            batch_size=128,\n",
    "            epochs=10)"
   ]
  },
  {
   "cell_type": "markdown",
   "id": "8bbffff7",
   "metadata": {},
   "source": [
    "Kiindulás képpen megfogunk egy random sort. A szöveggenerálás során ez a sor fog kezdeni minden alkalommal."
   ]
  },
  {
   "cell_type": "code",
   "execution_count": 9,
   "id": "e6f7ddf1",
   "metadata": {},
   "outputs": [
    {
     "data": {
      "text/plain": [
       "' promised.  \\nwe walked up the massive staircase, my hand tra'"
      ]
     },
     "execution_count": 9,
     "metadata": {},
     "output_type": "execute_result"
    }
   ],
   "source": [
    "import random\n",
    "\n",
    "start_index = random.randint(0, len(script) - maxlen - 1)\n",
    "base_text = script[start_index: start_index + maxlen]\n",
    "base_text"
   ]
  },
  {
   "cell_type": "code",
   "execution_count": 10,
   "id": "b4580373",
   "metadata": {},
   "outputs": [],
   "source": [
    "def sample(preds, temperature=1.0):\n",
    "    preds = np.asarray(preds).astype('float64')\n",
    "    preds = np.log(preds) / temperature\n",
    "    exp_preds = np.exp(preds)\n",
    "    preds = exp_preds / np.sum(exp_preds)\n",
    "    probas = np.random.multinomial(1, preds, 1)\n",
    "    return np.argmax(probas)"
   ]
  },
  {
   "cell_type": "markdown",
   "id": "426bdd5f",
   "metadata": {},
   "source": [
    "#### A szöveg elénk kerül: "
   ]
  },
  {
   "cell_type": "markdown",
   "id": "51cd4f7a",
   "metadata": {},
   "source": [
    "Miután megadtuk, hogy milyen hosszú szöveget szeretnénk, hogy generáljon nekünk, karakterenként íródik elénk.\n"
   ]
  },
  {
   "cell_type": "code",
   "execution_count": 11,
   "id": "7c9d20b9",
   "metadata": {},
   "outputs": [
    {
     "name": "stdout",
     "output_type": "stream",
     "text": [
      "Temp:  0.2\n",
      " promised.  \n",
      "we walked up the massive staircase, my hand tra\n",
      "ce the was sace the gas and the tone the was was and my stared and the gas i greally the had was to the was to the gas i was was to the was his his stared and the was the was be on the was bee the was\n",
      "Temp:  0.5\n",
      " promised.  \n",
      "we walked up the massive staircase, my hand tra\n",
      "ce somealt and the a noon the healnated on the back could hough the cack with my and to the don't the siced eyes stom in and but and the srin and my lough has an on she toncered it where. i was his ou\n",
      "Temp:  1.0\n",
      " promised.  \n",
      "we walked up the massive staircase, my hand tra\n",
      "nten. he to tion.\"  \n",
      "\"theblly sid at me be in to the awe tor he his that ankne.  \n",
      "es — i nousho. \"and her me, that rearn.  \n",
      "my was stizemy o stage. the os not-me at, calks. thly then' romed has doowcu\n",
      "Temp:  1.2\n",
      " promised.  \n",
      "we walked up the massive staircase, my hand tra\n",
      "re.\"  \n",
      "\"i'ndward has caltny hive i wel uld cally tuld waving werew mown's, he how, cheet you lebpsly unsrime eesply tre. ancal i not'l, sin; is juzze blan, he as tag. \n",
      "i pauld tiold, what, your spraep\n"
     ]
    }
   ],
   "source": [
    "import sys\n",
    "temperatures = [0.2, 0.5, 1.0, 1.2] #0.2-esnél adta vissza a legolvashatóbb eredményt, 1.2-nél összefüggő szavakat sem tudott alkotni\n",
    "generated_characters = 200\n",
    "\n",
    "for temp in temperatures:\n",
    "    print(\"Temp: \", temp)\n",
    "    generated_text = base_text\n",
    "    print(generated_text)\n",
    "    for i in range(generated_characters):\n",
    "        sampled = np.zeros((1, maxlen, len(chars)))    \n",
    "        for t, char in enumerate(generated_text):\n",
    "            sampled[0, t, char_indices[char]] = 1.          \n",
    "        \n",
    "        preds = model.predict(sampled, verbose=0)[0]      \n",
    "        \n",
    "        next_index = sample(preds, temp)\n",
    "        next_char = chars[next_index]\n",
    "\n",
    "        generated_text += next_char\n",
    "        generated_text = generated_text[1:]\n",
    "\n",
    "        sys.stdout.write(next_char)\n",
    "        sys.stdout.flush()\n",
    "\n",
    "    print()"
   ]
  },
  {
   "cell_type": "markdown",
   "id": "d053110e",
   "metadata": {},
   "source": [
    "A kapott generált szöveg teljes nonsense, viszont ha még feljebb venném az egyes értékeket, a futási idő borzasztó hosszú lenne. (Őszintén, így is visszaadja, mennyire értelmetlen az eredeti szöveg.) Ez a sims-esített Alkonyat :D\n"
   ]
  },
  {
   "cell_type": "code",
   "execution_count": null,
   "id": "f880f58e",
   "metadata": {},
   "outputs": [],
   "source": []
  }
 ],
 "metadata": {
  "kernelspec": {
   "display_name": "Python 3 (ipykernel)",
   "language": "python",
   "name": "python3"
  },
  "language_info": {
   "codemirror_mode": {
    "name": "ipython",
    "version": 3
   },
   "file_extension": ".py",
   "mimetype": "text/x-python",
   "name": "python",
   "nbconvert_exporter": "python",
   "pygments_lexer": "ipython3",
   "version": "3.9.12"
  }
 },
 "nbformat": 4,
 "nbformat_minor": 5
}
